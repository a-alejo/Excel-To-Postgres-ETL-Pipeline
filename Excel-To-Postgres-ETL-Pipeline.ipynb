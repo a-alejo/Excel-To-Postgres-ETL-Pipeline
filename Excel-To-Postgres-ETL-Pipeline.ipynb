{
 "cells": [
  {
   "cell_type": "code",
   "execution_count": 17,
   "metadata": {},
   "outputs": [],
   "source": [
    "import os\n",
    "from dotenv import load_dotenv\n",
    "cwd = os.getcwd()\n",
    "load_dotenv(cwd + '/.venv')\n",
    "\n",
    "# Retrieving environment credentials\n",
    "database = os.getenv('database')\n",
    "user = os.getenv('user')\n",
    "password = os.getenv('password')\n",
    "host = os.getenv('host')\n",
    "port = os.getenv('port')"
   ]
  },
  {
   "cell_type": "code",
   "execution_count": 18,
   "metadata": {},
   "outputs": [
    {
     "name": "stdout",
     "output_type": "stream",
     "text": [
      "Connection established\n"
     ]
    }
   ],
   "source": [
    "import psycopg2\n",
    "\n",
    "# establishing the connection\n",
    "conn = psycopg2.connect(\n",
    "    database=database,\n",
    "    user=user,\n",
    "    password=password,\n",
    "    host=host,\n",
    ")\n",
    "# print if connection is successful\n",
    "print(\"Connection established\")"
   ]
  },
  {
   "cell_type": "code",
   "execution_count": 19,
   "metadata": {},
   "outputs": [],
   "source": [
    "from sqlalchemy import create_engine\n",
    "\n",
    "# Path to the Excel file\n",
    "file_path = 'Data/'\n",
    "\n",
    "# Extract excel file name and data\n",
    "def extract():\n",
    "    try:\n",
    "        # Loop through the directory. if it is an excel file use, split the file name then use the file name as the table name\n",
    "        for file in os.listdir(file_path):\n",
    "            if file.endswith('.xlsx'):\n",
    "                table_name = file.split('.')[0]\n",
    "                df = pd.read_excel(file_path + file)\n",
    "                load(df, table_name)\n",
    "    except Exception as e:\n",
    "        print(f\"Error occurred during extraction: {e}\")"
   ]
  },
  {
   "cell_type": "code",
   "execution_count": 20,
   "metadata": {},
   "outputs": [],
   "source": [
    "# Load the data to Postgres\n",
    "def load(df, tbl):\n",
    "    try:\n",
    "        rows_imported = 0\n",
    "        engine = create_engine(f'postgresql://{user}:{password}@{host}/{database}')\n",
    "        print(f'importing rows {rows_imported} to {rows_imported + len(df)}...')\n",
    "        # Save to Postgres\n",
    "        df.to_sql(f'stg_{tbl}', engine, if_exists='replace', index=False)\n",
    "        rows_imported +=len(df)\n",
    "        print('Data imported successfully')\n",
    "    except Exception as e:\n",
    "        print(f\"Error occurred during loading: {e}\")"
   ]
  },
  {
   "cell_type": "code",
   "execution_count": 21,
   "metadata": {},
   "outputs": [
    {
     "name": "stdout",
     "output_type": "stream",
     "text": [
      "importing rows 0 tp 1000...\n",
      "Data imported successfully\n"
     ]
    }
   ],
   "source": [
    "try:\n",
    "    df = extract()\n",
    "except Exception as e:\n",
    "        print(e)"
   ]
  }
 ],
 "metadata": {
  "kernelspec": {
   "display_name": "Data-Analysis-PY",
   "language": "python",
   "name": "python3"
  },
  "language_info": {
   "codemirror_mode": {
    "name": "ipython",
    "version": 3
   },
   "file_extension": ".py",
   "mimetype": "text/x-python",
   "name": "python",
   "nbconvert_exporter": "python",
   "pygments_lexer": "ipython3",
   "version": "3.11.0"
  }
 },
 "nbformat": 4,
 "nbformat_minor": 2
}
